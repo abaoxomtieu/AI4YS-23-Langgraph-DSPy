{
 "cells": [
  {
   "cell_type": "code",
   "execution_count": 2,
   "metadata": {},
   "outputs": [
    {
     "name": "stderr",
     "output_type": "stream",
     "text": [
      "c:\\Users\\htbqn\\AppData\\Local\\Programs\\Python\\Python311\\Lib\\site-packages\\tqdm\\auto.py:21: TqdmWarning: IProgress not found. Please update jupyter and ipywidgets. See https://ipywidgets.readthedocs.io/en/stable/user_install.html\n",
      "  from .autonotebook import tqdm as notebook_tqdm\n"
     ]
    }
   ],
   "source": [
    "from dotenv import load_dotenv\n",
    "import os\n",
    "from langchain_google_genai import GoogleGenerativeAI\n",
    "from langchain_community.tools.tavily_search import TavilySearchResults\n",
    "\n",
    "load_dotenv()\n",
    "\n",
    "GOOGLE_API_KEY = os.getenv(\"GOOGLE_API_KEY\")\n",
    "llm = GoogleGenerativeAI(   \n",
    "    model=\"gemini-1.5-flash\",\n",
    "    temperature=0,\n",
    "    verbose=True,\n",
    "    google_api_key=GOOGLE_API_KEY,\n",
    ")\n",
    "search_engine = TavilySearchResults()"
   ]
  },
  {
   "cell_type": "code",
   "execution_count": 3,
   "metadata": {},
   "outputs": [
    {
     "data": {
      "text/plain": [
       "'Tôi là một mô hình ngôn ngữ lớn, được đào tạo bởi Google. \\n'"
      ]
     },
     "execution_count": 3,
     "metadata": {},
     "output_type": "execute_result"
    }
   ],
   "source": [
    "llm.invoke(\"bạn là ai\")"
   ]
  },
  {
   "cell_type": "code",
   "execution_count": 4,
   "metadata": {},
   "outputs": [
    {
     "data": {
      "text/plain": [
       "[{'url': 'https://thoitiet.app/binh-dinh/quy-nhon/10-ngay-toi',\n",
       "  'content': 'Thời tiết xã phường Quy Nhơn. Tin dự báo thời tiết Quy Nhơn 10 ngày tới chính xác nhất. Cập nhật tình hình nhiệt độ, khả năng có mưa hay không trong 10 ngày tới ở Quy Nhơn - Bình Định.'},\n",
       " {'url': 'https://thoitiet.vn/binh-dinh/quy-nhon',\n",
       "  'content': 'Xem thời tiết Quy Nhơn hôm nay, ngày mai và 10 ngày tới, bao gồm nhiệt độ, độ ẩm, tầm nhìn, gió, chất lượng không khí và mưa. So sánh thời tiết Quy Nhơn với các tỉnh khác trong Bình Định và Việt Nam.'},\n",
       " {'url': 'https://thoitiet.app/binh-dinh/quy-nhon/3-ngay-toi',\n",
       "  'content': 'Thời tiết xã phường Quy Nhơn. Thời tiết Quy Nhơn 3 ngày tới chính xác nhất. Cập nhật tình hình nhiệt độ, khả năng có mưa hay không trong 3 ngày tới tại Quy Nhơn, Bình Định.'},\n",
       " {'url': 'https://thoitiet.vn/binh-dinh/quy-nhon/10-ngay-toi',\n",
       "  'content': 'Dự báo thời tiết 10 ngày tới tại Quy Nhơn. Thông tin mười ngày tiếp theo về nhiệt độ, độ ẩm, lượng mưa tại khu vực Quy Nhơn, Bình Định'},\n",
       " {'url': 'https://www.accuweather.com/vi/vn/quy-nhon/171/daily-weather-forecast/171',\n",
       "  'content': 'Xem biểu đồ thời tiết hàng ngày cho Quy Nhơn, Bình Định, Việt Nam từ 9 tháng 6 đến 23 tháng 7. Biết nhiệt, độ ẩm, mưa, gió, chỉ số UV và RealFeel® của các ngày.'}]"
      ]
     },
     "execution_count": 4,
     "metadata": {},
     "output_type": "execute_result"
    }
   ],
   "source": [
    "search_engine.invoke(\"Thời tiết Quy Nhơn\")"
   ]
  },
  {
   "cell_type": "code",
   "execution_count": 5,
   "metadata": {},
   "outputs": [],
   "source": [
    "from langgraph.graph import Graph"
   ]
  },
  {
   "cell_type": "code",
   "execution_count": 13,
   "metadata": {},
   "outputs": [],
   "source": []
  },
  {
   "cell_type": "code",
   "execution_count": 22,
   "metadata": {},
   "outputs": [],
   "source": [
    "def func1(state):\n",
    "    question = state[\"quetstion\"]\n",
    "    context = search_engine.invoke(question)\n",
    "    state[\"context\"] = \"\\n\".join([i[\"content\"] for i in context])\n",
    "    return state\n",
    "def func2(state):\n",
    "    context = state[\"context\"]\n",
    "    question = state[\"question\"]\n",
    "    prompt = \"You are given context:\" + context + \"My question is:\" + question + \"Give me answer\"\n",
    "    output = llm.invoke(prompt)\n",
    "    return output"
   ]
  },
  {
   "cell_type": "code",
   "execution_count": 23,
   "metadata": {},
   "outputs": [],
   "source": [
    "graph = Graph()\n",
    "graph.add_node(\"node1\",func1)\n",
    "graph.add_node(\"node2\",func2)\n",
    "graph.add_edge(\"node1\",\"node2\")\n",
    "graph.set_entry_point(\"node1\")\n",
    "graph.set_finish_point(\"node2\")\n",
    "app = graph.compile()"
   ]
  },
  {
   "cell_type": "code",
   "execution_count": 24,
   "metadata": {},
   "outputs": [
    {
     "name": "stdout",
     "output_type": "stream",
     "text": [
      "{'node1': {'quetstion': 'thời tiết hôm nay ở Quy Nhơn', 'context': 'Thông tin thời tiết theo giờ tại Quy Nhơn. Tình hình nhiệt độ, độ ẩm không khí thay đổi trong 24 giờ tới ở Quy Nhơn, Bình Định. ... Hôm nay Ngày mai 3 ngày 5 ngày. 7 ngày 10 ngày 15 ngày 30 ngày. Mặt trời mọc/lặn. 05:26 18:12\\nDự báo thời tiết Quy Nhơn - Bình Định hôm nay, ngày mai theo giờ 3:00 pm 31.7° / 37.7°\\nCập nhật nhiệt độ, đổ ẩm, lượng mưa và chất lượng không khí Quy Nhơn hôm nay. Dự báo thời tiết Quy Nhơn 7 ngày tới. Thứ hai, 29/7/2024. Mới nhất Tin theo khu vực Hà Nội; TP Hồ Chí Minh; International. Mới nhất; Thời sự ; Góc nhìn ; Thế giới ; Video ...\\nThời tiết xã phường Quy Nhơn. Tình hình dự báo thời tiết, nhiệt độ Quy Nhơn, Bình Định hôm nay, ngày mai và các ngày tới. Dự báo khả năng có mưa hay không theo giờ chính xác nhất!\\n33.2 °C. T2 Ngày 05. Nhiệt độ và khả năng mưa Quy Nhơn - Bình Định những ngày tới. Lượng mưa Quy Nhơn - Bình Định những ngày tới. Cập nhật dự báo thời tiết Quy Nhơn, Bình Định hôm nay và ngày mai chính xác nhất. Dự báo khả năng có mưa, lượng mưa và nhiệt độ ở Quy Nhơn.'}}\n"
     ]
    },
    {
     "ename": "KeyError",
     "evalue": "'question'",
     "output_type": "error",
     "traceback": [
      "\u001b[1;31m---------------------------------------------------------------------------\u001b[0m",
      "\u001b[1;31mKeyError\u001b[0m                                  Traceback (most recent call last)",
      "Cell \u001b[1;32mIn[24], line 1\u001b[0m\n\u001b[1;32m----> 1\u001b[0m \u001b[38;5;28;43;01mfor\u001b[39;49;00m\u001b[43m \u001b[49m\u001b[43moutput\u001b[49m\u001b[43m \u001b[49m\u001b[38;5;129;43;01min\u001b[39;49;00m\u001b[43m \u001b[49m\u001b[43mapp\u001b[49m\u001b[38;5;241;43m.\u001b[39;49m\u001b[43mstream\u001b[49m\u001b[43m(\u001b[49m\u001b[43m{\u001b[49m\u001b[38;5;124;43m\"\u001b[39;49m\u001b[38;5;124;43mquetstion\u001b[39;49m\u001b[38;5;124;43m\"\u001b[39;49m\u001b[43m:\u001b[49m\u001b[43m \u001b[49m\u001b[38;5;124;43m\"\u001b[39;49m\u001b[38;5;124;43mthời tiết hôm nay ở Quy Nhơn\u001b[39;49m\u001b[38;5;124;43m\"\u001b[39;49m\u001b[43m}\u001b[49m\u001b[43m)\u001b[49m\u001b[43m:\u001b[49m\n\u001b[0;32m      2\u001b[0m \u001b[43m    \u001b[49m\u001b[38;5;28;43mprint\u001b[39;49m\u001b[43m(\u001b[49m\u001b[43moutput\u001b[49m\u001b[43m)\u001b[49m\n",
      "File \u001b[1;32mc:\\Users\\htbqn\\AppData\\Local\\Programs\\Python\\Python311\\Lib\\site-packages\\langgraph\\pregel\\__init__.py:1110\u001b[0m, in \u001b[0;36mPregel.stream\u001b[1;34m(self, input, config, stream_mode, output_keys, input_keys, interrupt_before, interrupt_after, debug)\u001b[0m\n\u001b[0;32m   1107\u001b[0m         \u001b[38;5;28;01mdel\u001b[39;00m fut, task\n\u001b[0;32m   1109\u001b[0m \u001b[38;5;66;03m# panic on failure or timeout\u001b[39;00m\n\u001b[1;32m-> 1110\u001b[0m \u001b[43m_panic_or_proceed\u001b[49m\u001b[43m(\u001b[49m\u001b[43mdone\u001b[49m\u001b[43m,\u001b[49m\u001b[43m \u001b[49m\u001b[43minflight\u001b[49m\u001b[43m,\u001b[49m\u001b[43m \u001b[49m\u001b[43mstep\u001b[49m\u001b[43m)\u001b[49m\n\u001b[0;32m   1111\u001b[0m \u001b[38;5;66;03m# don't keep futures around in memory longer than needed\u001b[39;00m\n\u001b[0;32m   1112\u001b[0m \u001b[38;5;28;01mdel\u001b[39;00m done, inflight, futures\n",
      "File \u001b[1;32mc:\\Users\\htbqn\\AppData\\Local\\Programs\\Python\\Python311\\Lib\\site-packages\\langgraph\\pregel\\__init__.py:1780\u001b[0m, in \u001b[0;36m_panic_or_proceed\u001b[1;34m(done, inflight, step)\u001b[0m\n\u001b[0;32m   1778\u001b[0m             inflight\u001b[38;5;241m.\u001b[39mpop()\u001b[38;5;241m.\u001b[39mcancel()\n\u001b[0;32m   1779\u001b[0m         \u001b[38;5;66;03m# raise the exception\u001b[39;00m\n\u001b[1;32m-> 1780\u001b[0m         \u001b[38;5;28;01mraise\u001b[39;00m exc\n\u001b[0;32m   1782\u001b[0m \u001b[38;5;28;01mif\u001b[39;00m inflight:\n\u001b[0;32m   1783\u001b[0m     \u001b[38;5;66;03m# if we got here means we timed out\u001b[39;00m\n\u001b[0;32m   1784\u001b[0m     \u001b[38;5;28;01mwhile\u001b[39;00m inflight:\n\u001b[0;32m   1785\u001b[0m         \u001b[38;5;66;03m# cancel all pending tasks\u001b[39;00m\n",
      "File \u001b[1;32mc:\\Users\\htbqn\\AppData\\Local\\Programs\\Python\\Python311\\Lib\\concurrent\\futures\\thread.py:58\u001b[0m, in \u001b[0;36m_WorkItem.run\u001b[1;34m(self)\u001b[0m\n\u001b[0;32m     55\u001b[0m     \u001b[38;5;28;01mreturn\u001b[39;00m\n\u001b[0;32m     57\u001b[0m \u001b[38;5;28;01mtry\u001b[39;00m:\n\u001b[1;32m---> 58\u001b[0m     result \u001b[38;5;241m=\u001b[39m \u001b[38;5;28;43mself\u001b[39;49m\u001b[38;5;241;43m.\u001b[39;49m\u001b[43mfn\u001b[49m\u001b[43m(\u001b[49m\u001b[38;5;241;43m*\u001b[39;49m\u001b[38;5;28;43mself\u001b[39;49m\u001b[38;5;241;43m.\u001b[39;49m\u001b[43margs\u001b[49m\u001b[43m,\u001b[49m\u001b[43m \u001b[49m\u001b[38;5;241;43m*\u001b[39;49m\u001b[38;5;241;43m*\u001b[39;49m\u001b[38;5;28;43mself\u001b[39;49m\u001b[38;5;241;43m.\u001b[39;49m\u001b[43mkwargs\u001b[49m\u001b[43m)\u001b[49m\n\u001b[0;32m     59\u001b[0m \u001b[38;5;28;01mexcept\u001b[39;00m \u001b[38;5;167;01mBaseException\u001b[39;00m \u001b[38;5;28;01mas\u001b[39;00m exc:\n\u001b[0;32m     60\u001b[0m     \u001b[38;5;28mself\u001b[39m\u001b[38;5;241m.\u001b[39mfuture\u001b[38;5;241m.\u001b[39mset_exception(exc)\n",
      "File \u001b[1;32mc:\\Users\\htbqn\\AppData\\Local\\Programs\\Python\\Python311\\Lib\\site-packages\\langgraph\\pregel\\retry.py:72\u001b[0m, in \u001b[0;36mrun_with_retry\u001b[1;34m(task, retry_policy)\u001b[0m\n\u001b[0;32m     70\u001b[0m task\u001b[38;5;241m.\u001b[39mwrites\u001b[38;5;241m.\u001b[39mclear()\n\u001b[0;32m     71\u001b[0m \u001b[38;5;66;03m# run the task\u001b[39;00m\n\u001b[1;32m---> 72\u001b[0m \u001b[43mtask\u001b[49m\u001b[38;5;241;43m.\u001b[39;49m\u001b[43mproc\u001b[49m\u001b[38;5;241;43m.\u001b[39;49m\u001b[43minvoke\u001b[49m\u001b[43m(\u001b[49m\u001b[43mtask\u001b[49m\u001b[38;5;241;43m.\u001b[39;49m\u001b[43minput\u001b[49m\u001b[43m,\u001b[49m\u001b[43m \u001b[49m\u001b[43mtask\u001b[49m\u001b[38;5;241;43m.\u001b[39;49m\u001b[43mconfig\u001b[49m\u001b[43m)\u001b[49m\n\u001b[0;32m     73\u001b[0m \u001b[38;5;66;03m# if successful, end\u001b[39;00m\n\u001b[0;32m     74\u001b[0m \u001b[38;5;28;01mbreak\u001b[39;00m\n",
      "File \u001b[1;32mc:\\Users\\htbqn\\AppData\\Local\\Programs\\Python\\Python311\\Lib\\site-packages\\langchain_core\\runnables\\base.py:2822\u001b[0m, in \u001b[0;36mRunnableSequence.invoke\u001b[1;34m(self, input, config, **kwargs)\u001b[0m\n\u001b[0;32m   2818\u001b[0m config \u001b[38;5;241m=\u001b[39m patch_config(\n\u001b[0;32m   2819\u001b[0m     config, callbacks\u001b[38;5;241m=\u001b[39mrun_manager\u001b[38;5;241m.\u001b[39mget_child(\u001b[38;5;124mf\u001b[39m\u001b[38;5;124m\"\u001b[39m\u001b[38;5;124mseq:step:\u001b[39m\u001b[38;5;132;01m{\u001b[39;00mi\u001b[38;5;241m+\u001b[39m\u001b[38;5;241m1\u001b[39m\u001b[38;5;132;01m}\u001b[39;00m\u001b[38;5;124m\"\u001b[39m)\n\u001b[0;32m   2820\u001b[0m )\n\u001b[0;32m   2821\u001b[0m \u001b[38;5;28;01mif\u001b[39;00m i \u001b[38;5;241m==\u001b[39m \u001b[38;5;241m0\u001b[39m:\n\u001b[1;32m-> 2822\u001b[0m     \u001b[38;5;28minput\u001b[39m \u001b[38;5;241m=\u001b[39m \u001b[43mstep\u001b[49m\u001b[38;5;241;43m.\u001b[39;49m\u001b[43minvoke\u001b[49m\u001b[43m(\u001b[49m\u001b[38;5;28;43minput\u001b[39;49m\u001b[43m,\u001b[49m\u001b[43m \u001b[49m\u001b[43mconfig\u001b[49m\u001b[43m,\u001b[49m\u001b[43m \u001b[49m\u001b[38;5;241;43m*\u001b[39;49m\u001b[38;5;241;43m*\u001b[39;49m\u001b[43mkwargs\u001b[49m\u001b[43m)\u001b[49m\n\u001b[0;32m   2823\u001b[0m \u001b[38;5;28;01melse\u001b[39;00m:\n\u001b[0;32m   2824\u001b[0m     \u001b[38;5;28minput\u001b[39m \u001b[38;5;241m=\u001b[39m step\u001b[38;5;241m.\u001b[39minvoke(\u001b[38;5;28minput\u001b[39m, config)\n",
      "File \u001b[1;32mc:\\Users\\htbqn\\AppData\\Local\\Programs\\Python\\Python311\\Lib\\site-packages\\langgraph\\utils.py:102\u001b[0m, in \u001b[0;36mRunnableCallable.invoke\u001b[1;34m(self, input, config, **kwargs)\u001b[0m\n\u001b[0;32m    100\u001b[0m     \u001b[38;5;28;01mif\u001b[39;00m accepts_config(\u001b[38;5;28mself\u001b[39m\u001b[38;5;241m.\u001b[39mfunc):\n\u001b[0;32m    101\u001b[0m         kwargs[\u001b[38;5;124m\"\u001b[39m\u001b[38;5;124mconfig\u001b[39m\u001b[38;5;124m\"\u001b[39m] \u001b[38;5;241m=\u001b[39m config\n\u001b[1;32m--> 102\u001b[0m     ret \u001b[38;5;241m=\u001b[39m \u001b[43mcontext\u001b[49m\u001b[38;5;241;43m.\u001b[39;49m\u001b[43mrun\u001b[49m\u001b[43m(\u001b[49m\u001b[38;5;28;43mself\u001b[39;49m\u001b[38;5;241;43m.\u001b[39;49m\u001b[43mfunc\u001b[49m\u001b[43m,\u001b[49m\u001b[43m \u001b[49m\u001b[38;5;28;43minput\u001b[39;49m\u001b[43m,\u001b[49m\u001b[43m \u001b[49m\u001b[38;5;241;43m*\u001b[39;49m\u001b[38;5;241;43m*\u001b[39;49m\u001b[43mkwargs\u001b[49m\u001b[43m)\u001b[49m\n\u001b[0;32m    103\u001b[0m \u001b[38;5;28;01mif\u001b[39;00m \u001b[38;5;28misinstance\u001b[39m(ret, Runnable) \u001b[38;5;129;01mand\u001b[39;00m \u001b[38;5;28mself\u001b[39m\u001b[38;5;241m.\u001b[39mrecurse:\n\u001b[0;32m    104\u001b[0m     \u001b[38;5;28;01mreturn\u001b[39;00m ret\u001b[38;5;241m.\u001b[39minvoke(\u001b[38;5;28minput\u001b[39m, config)\n",
      "Cell \u001b[1;32mIn[22], line 8\u001b[0m, in \u001b[0;36mfunc2\u001b[1;34m(state)\u001b[0m\n\u001b[0;32m      6\u001b[0m \u001b[38;5;28;01mdef\u001b[39;00m \u001b[38;5;21mfunc2\u001b[39m(state):\n\u001b[0;32m      7\u001b[0m     context \u001b[38;5;241m=\u001b[39m state[\u001b[38;5;124m\"\u001b[39m\u001b[38;5;124mcontext\u001b[39m\u001b[38;5;124m\"\u001b[39m]\n\u001b[1;32m----> 8\u001b[0m     question \u001b[38;5;241m=\u001b[39m \u001b[43mstate\u001b[49m\u001b[43m[\u001b[49m\u001b[38;5;124;43m\"\u001b[39;49m\u001b[38;5;124;43mquestion\u001b[39;49m\u001b[38;5;124;43m\"\u001b[39;49m\u001b[43m]\u001b[49m\n\u001b[0;32m      9\u001b[0m     prompt \u001b[38;5;241m=\u001b[39m \u001b[38;5;124m\"\u001b[39m\u001b[38;5;124mYou are given context:\u001b[39m\u001b[38;5;124m\"\u001b[39m \u001b[38;5;241m+\u001b[39m context \u001b[38;5;241m+\u001b[39m \u001b[38;5;124m\"\u001b[39m\u001b[38;5;124mMy question is:\u001b[39m\u001b[38;5;124m\"\u001b[39m \u001b[38;5;241m+\u001b[39m question \u001b[38;5;241m+\u001b[39m \u001b[38;5;124m\"\u001b[39m\u001b[38;5;124mGive me answer\u001b[39m\u001b[38;5;124m\"\u001b[39m\n\u001b[0;32m     10\u001b[0m     output \u001b[38;5;241m=\u001b[39m llm\u001b[38;5;241m.\u001b[39minvoke(prompt)\n",
      "\u001b[1;31mKeyError\u001b[0m: 'question'"
     ]
    }
   ],
   "source": [
    "for output in app.stream({\"quetstion\": \"thời tiết hôm nay ở Quy Nhơn\"}):\n",
    "    print(output)"
   ]
  },
  {
   "cell_type": "code",
   "execution_count": null,
   "metadata": {},
   "outputs": [],
   "source": []
  },
  {
   "cell_type": "code",
   "execution_count": 5,
   "metadata": {},
   "outputs": [],
   "source": [
    "from langgraph.graph import Graph"
   ]
  },
  {
   "cell_type": "code",
   "execution_count": 19,
   "metadata": {},
   "outputs": [
    {
     "data": {
      "text/plain": [
       "[{'url': 'https://vnexpress.net/thoi-tiet',\n",
       "  'content': '24h tiếp theo Hôm nay. ... Cập nhật thời tiết hiện tại: nhiệt độ, đổ ẩm, lượng mưa... Dự báo thời tiết ngày mai và 7 ngày tới chính xác nhất. Thứ sáu, 26/7/2024. Mới nhất Tin theo khu vực Hà Nội; TP Hồ Chí Minh; International. Mới nhất; Thời sự ; Góc nhìn ...'},\n",
       " {'url': 'https://vtcnews.vn/du-bao-thoi-tiet-tp-hcm-ngay-29-7-nang-nhe-chieu-toi-co-mua-dong-ar886071.html',\n",
       "  'content': 'Thời tiết TP.HCM hôm nay 29/7,mây gián đoạn, từ sáng đến trưa trời nắng, về chiều tối có mưa rào và dông vài nơi. Nhiệt độ trong khoảng 31-32 độ C, độ ẩm tương đối phổ biến 76-79%, mật độ mây trung bình 100%. Hướng gió Tây Tây Nam đạt vận tốc 13-19 km/h.'},\n",
       " {'url': 'https://nchmf.gov.vn/Kttvsite/vi-VN/1/tp-ha-noi-w28.html',\n",
       "  'content': 'Web site nchmf.gov.vn - web site thông tin dự báo thời tiết biển, đất liền 24h,48h,72h, sản phẩm mô hình, ảnh Radar, ảnh vệ tinh. Giới thiệu. Chức năng nhiệm vụ ... Dự báo ngày hôm nay. Cập nhật: 04h30 28/07/2024.'},\n",
       " {'url': 'https://www.accuweather.com/vi/vn/hanoi/353412/hourly-weather-forecast/353412',\n",
       "  'content': 'Xem thời tiết hàng giờ Hà Nội hôm nay và ngày mai với nhiệt độ, ẩm, mây, gió, chất lượng không khí và tần số mưa. AccuWeather cung cấp thông tin thời tiết chính xác và đa dạng về Hà Nội và toàn cầu.'},\n",
       " {'url': 'https://thoitiet.vn/',\n",
       "  'content': 'Dự báo thời tiết các Tỉnh/Thành phố\\nHà Giang\\nMây cụm\\n23°\\n/\\n23.1°\\nCao Bằng\\nNhiều mây\\n22.4°\\n/\\n23.1°\\nLào Cai\\nBầu trời quang đãng\\n22.8°\\n/\\n23.6°\\nĐiện Biên\\nBầu trời quang đãng\\n20.9°\\n/\\n20.3°\\nHà Nội\\nSương mờ\\n24.4°\\n/\\n25.1°\\nHải Phòng\\nNhiều mây\\n24.2°\\n/\\n25.3°\\nThanh Hóa\\nMây cụm\\n22.5°\\n/\\n23.2°\\nQuảng Trị\\nBầu trời quang đãng\\n24.3°\\n/\\n24.5°\\nĐà Nẵng\\nMây thưa\\n26.4°\\n/\\n26.7°\\nQuảng Ngãi\\nMây thưa\\n23.1°\\n/\\n24.5°\\nBình Thuận\\nMây cụm\\n22.8°\\n/\\n23.2°\\nCà Mau\\nMây cụm\\n26.3°\\n/\\n26.2°\\nC\\nF\\nSương mờ\\nCảm giác như 25.5°.\\n Dự báo những ngày tới\\n23.2°/31.8°\\n94%\\n1009 mb\\n5 km\\n3.6 km/giờ\\n23.4 °C\\n0\\nTin tức thời tiết\\nTia UV là gì? 6+ ý nghĩa kỳ diệu của hoàng hôn\\nTin thời tiết ba miền những ngày cuối tháng 7, miền Bắc bước vào đợt mưa giông dài ngày từ tối nay\\nMột vùng áp thấp hình thành giữa biển Đông, có khả năng mạnh lên thành áp thấp nhiệt đới!\\n Bên cạnh đó, còn có dự báo thời tiết ngày mai, dự báo thời tiết 3 ngày hay thời tiết trong 5 ngày tới,… Cho phép bạn chuẩn bị một kế hoạch đi chơi hay công tác ngắn ngày một cách suôn sẻ và thuận lợi.\\n Cung cấp bản tin thời tiết hằng ngày\\nThoitiet.vn là trang web chuyên cung cấp các bản tin dự báo thời tiết hằng ngày cho các tỉnh thành, quận huyện và xã phường chính xác và nhanh chóng.'}]"
      ]
     },
     "execution_count": 19,
     "metadata": {},
     "output_type": "execute_result"
    }
   ],
   "source": [
    "search_engine.invoke(\"Thời tiết hôm nay\")"
   ]
  },
  {
   "cell_type": "code",
   "execution_count": 21,
   "metadata": {},
   "outputs": [],
   "source": []
  },
  {
   "cell_type": "code",
   "execution_count": 25,
   "metadata": {},
   "outputs": [],
   "source": [
    "def func1(state):\n",
    "    question = state[\"question\"]\n",
    "    output = search_engine.invoke(question)\n",
    "    state[\"context\"] = \"\\n\".join([i[\"content\"] for i in output])\n",
    "    \n",
    "    return state\n",
    "def func2(state):\n",
    "    question = state[\"question\"]\n",
    "    context = state[\"context\"]\n",
    "    prompt = \"You are given contexts are:\" + context + \"\\nMy question is:\" + question + \"\\nGive me best Vietnamese answer from context and question\"\n",
    "    output = llm.invoke(prompt)\n",
    "    state[\"answer\"] = output\n",
    "    return state"
   ]
  },
  {
   "cell_type": "code",
   "execution_count": 26,
   "metadata": {},
   "outputs": [],
   "source": [
    "graph = Graph()\n",
    "graph.add_node(\"node1\",func1)\n",
    "graph.add_node(\"node2\",func2)\n",
    "graph.add_edge(\"node1\",\"node2\")\n",
    "graph.set_entry_point(\"node1\")\n",
    "graph.set_finish_point(\"node2\")\n",
    "app = graph.compile()"
   ]
  },
  {
   "cell_type": "code",
   "execution_count": 27,
   "metadata": {},
   "outputs": [
    {
     "data": {
      "text/plain": [
       "{'question': 'Thời tiết Hà Nội hôm nay như thế nào?',\n",
       " 'context': 'Cập nhật diễn biến thời tiết Hà Nội diễn ra từng giờ như thế nào? Chi tiết. Thời tiết theo ngày. Tra cứu dự báo thời tiết Hà Nội hôm nay, ngày mai, 3 ngày, 5 ngày, 7 ngày, 10 ngày, 15 ngày, và 30 ngày tới. ... Dự báo thời tiết Hà Nội hôm nay 20/7, nhiệt độ ổn định (26 ...\\nThời tiết Hà Nội hôm nay ☀️ Dự báo thời tiết chính xác cho Hà Nội, Việt Nam hôm nay ngày mai ⛅ Dự báo chi tiết ⋙ Hôm nay và ngày mai Trong một tuần 2 tuần 30 ngày Nhiệt độ hiện tại ⊳ Tiện ích thời tiết ⊳ Nhiệt độ nước | METEOPROG ... Cảm giác như +29°C; 80%; 1,4 mm ...\\nThông tin thời tiết theo giờ tại Hà Nội. Tình hình nhiệt độ, độ ẩm không khí thay đổi trong 24 giờ tới ở Hà Nội ... Hôm nay Ngày mai 3 ngày 5 ngày. 7 ngày 10 ngày 15 ngày 30 ngày. Mặt trời mọc/lặn. 05:28 18:37 Thấp/Cao. 25.8°/29.4° ... Tác hại của tia Uv như thế nào đối với ...\\nWeb site nchmf.gov.vn - website thông tin dự báo thời tiết, thiên tai khí tượng thủy văn. ... Thời tiết 10 ngày tới; Thời tiết Hà Nội. Thời tiết hiện tại. Cập nhật: 1h 28/07/2024 ... : 94. Hướng gió: Gió bắc - tốc độ: 1 m/s. Dự báo ngày hôm nay. Cập nhật: Nhiệt độ ...\\n20o. 25o. 30o. 35o. 40o. Cập nhật nhiệt độ, đổ ẩm, lượng mưa và chất lượng không khí Hà Nội hôm nay. Dự báo thời tiết Hà Nội 7 ngày tới.',\n",
       " 'answer': 'Thời tiết Hà Nội hôm nay có nhiệt độ thấp nhất là 25.8 độ C và cao nhất là 29.4 độ C. Độ ẩm là 94%, gió Bắc với tốc độ 1 m/s. \\n'}"
      ]
     },
     "execution_count": 27,
     "metadata": {},
     "output_type": "execute_result"
    }
   ],
   "source": [
    "state = {\"question\":\"Thời tiết Hà Nội hôm nay như thế nào?\"}\n",
    "\n",
    "app.invoke(state)"
   ]
  },
  {
   "cell_type": "code",
   "execution_count": null,
   "metadata": {},
   "outputs": [],
   "source": []
  },
  {
   "cell_type": "code",
   "execution_count": null,
   "metadata": {},
   "outputs": [],
   "source": []
  },
  {
   "cell_type": "code",
   "execution_count": null,
   "metadata": {},
   "outputs": [],
   "source": []
  },
  {
   "cell_type": "code",
   "execution_count": 4,
   "metadata": {},
   "outputs": [],
   "source": [
    "from langgraph.graph import Graph"
   ]
  },
  {
   "cell_type": "markdown",
   "metadata": {},
   "source": [
    "BASIC"
   ]
  },
  {
   "cell_type": "code",
   "execution_count": 29,
   "metadata": {},
   "outputs": [
    {
     "data": {
      "text/plain": [
       "[{'url': 'https://weather.com/vi-VN/weather/hourbyhour/l/0209d970a7aa61d9a500d6dce540001091a369fca67582869069587b0dc7e05c',\n",
       "  'content': 'Dự báo thời tiết khu vực từng giờ, điều kiện thời tiết, ... Thời tiết hàng giờ-Hà Nội. Kể từ 5:02 GMT+07:00. Mưa. Bão kết thúc vào 05:30. Có thể ...'},\n",
       " {'url': 'https://thoitietvietnam.gov.vn/Kttv/vi-VN/1/ha-noi-w28.html',\n",
       "  'content': 'Web site nchmf.gov.vn - website thông tin dự báo thời tiết, thiên tai khí tượng thủy văn. Giới thiệu. Chức năng nhiệm vụ ... Thời tiết 10 ngày tới; Thời tiết Hà Nội. Thời tiết hiện tại. Cập nhật: 1h 28/07/2024.'},\n",
       " {'url': 'https://thoitiet.vn/ha-noi/10-ngay-toi',\n",
       "  'content': 'Xem thời tiết Hà Nội trong 10 ngày tới với nhiệt độ, độ ẩm, lượng mưa và gió. Hà Nội có mưa vừa và mưa nhẹ trong thời gian này, nhiệt độ từ 25.2 đến 36.9 độ C.'},\n",
       " {'url': 'https://vnexpress.net/thoi-tiet/ha-noi',\n",
       "  'content': 'Dự báo thời tiết Hà Nội 7 ngày tới. Cập nhật nhiệt độ, đổ ẩm, lượng mưa và chất lượng không khí Hà Nội hôm nay. Dự báo thời tiết Hà Nội 7 ngày tới. Chủ nhật, 28/7/2024. Mới nhất Tin theo khu vực Hà Nội; TP Hồ Chí Minh; International. Mới nhất; Thời sự ;'},\n",
       " {'url': 'https://nchmf.gov.vn/Kttvsite/vi-VN/1/tp-ha-noi-w28.html',\n",
       "  'content': 'Web site nchmf.gov.vn - web site thông tin dự báo thời tiết biển, đất liền 24h,48h,72h, sản phẩm mô hình, ảnh Radar, ảnh vệ tinh. ... Hà Nội. Điện thoại: 84-24-38244916; 84-24-32673199 - số máy lẻ 701 E-mail: vtttkttv@monre.gov.vn Góp ý . Gửi góp ý Thư viện ảnh ...'}]"
      ]
     },
     "execution_count": 29,
     "metadata": {},
     "output_type": "execute_result"
    }
   ],
   "source": [
    "search_engine.invoke(\"thời tiết Hà Nội\")"
   ]
  },
  {
   "cell_type": "code",
   "execution_count": 27,
   "metadata": {},
   "outputs": [],
   "source": [
    "def func1(input):\n",
    "    return input + \" hello\"\n",
    "\n",
    "\n",
    "def func2(input):\n",
    "    return input + \" there\"\n",
    "\n",
    "\n",
    "def func3(input):\n",
    "    return input + \"continue\""
   ]
  },
  {
   "cell_type": "code",
   "execution_count": 28,
   "metadata": {},
   "outputs": [],
   "source": [
    "from langgraph.graph import END"
   ]
  },
  {
   "cell_type": "code",
   "execution_count": 25,
   "metadata": {},
   "outputs": [],
   "source": [
    "flow = Graph()\n",
    "flow.add_node(\"node1\", func1)\n",
    "flow.add_node(\"node2\", func2)\n",
    "flow.add_node(\"node3\", func3)\n",
    "flow.add_edge(\"node1\", \"node2\")\n",
    "\n",
    "\n",
    "def should_continue(input):\n",
    "    return False\n",
    "\n",
    "\n",
    "flow.add_conditional_edges(\"node2\", should_continue, {True: \"node3\", False: END})\n",
    "flow.add_edge(\"node3\", \"node2\")\n",
    "flow.set_entry_point(\"node1\")\n",
    "app = flow.compile()"
   ]
  },
  {
   "cell_type": "code",
   "execution_count": 26,
   "metadata": {},
   "outputs": [
    {
     "name": "stdout",
     "output_type": "stream",
     "text": [
      "{'node1': 'Bao hello'}\n",
      "{'node2': 'Bao hello there'}\n"
     ]
    }
   ],
   "source": [
    "for event in app.stream(\"Bao\"):\n",
    "    print(event)"
   ]
  },
  {
   "cell_type": "code",
   "execution_count": 14,
   "metadata": {},
   "outputs": [],
   "source": [
    "state = {}"
   ]
  },
  {
   "cell_type": "code",
   "execution_count": 15,
   "metadata": {},
   "outputs": [],
   "source": [
    "graph_state = Graph()"
   ]
  },
  {
   "cell_type": "code",
   "execution_count": 32,
   "metadata": {},
   "outputs": [],
   "source": [
    "state = {}"
   ]
  },
  {
   "cell_type": "code",
   "execution_count": 39,
   "metadata": {},
   "outputs": [],
   "source": [
    "def func1(state):\n",
    "    question = state[\"question\"]\n",
    "    output = search_engine.invoke(question)\n",
    "    output = \"\\n\".join([i[\"content\"] for i in output])\n",
    "    state[\"context\"] = output\n",
    "    return state\n",
    "\n",
    "\n",
    "def func2(state):\n",
    "    promt = \"You are given context is: \" + state[\"context\"] + \"\\nUser question is:\" + state[\"question\"] + \"\\nFrom context and question, give me answer\"\n",
    "    state[\"answer\"] = llm.invoke(promt)\n",
    "    return state\n"
   ]
  },
  {
   "cell_type": "code",
   "execution_count": 40,
   "metadata": {},
   "outputs": [],
   "source": [
    "flow = Graph()\n",
    "flow.add_node(\"search\",func1)\n",
    "flow.add_node(\"llm\",func2)\n",
    "flow.add_edge(\"search\",\"llm\")\n",
    "flow.set_entry_point(\"search\")\n",
    "flow.set_finish_point(\"llm\")\n",
    "app = flow.compile()\n"
   ]
  },
  {
   "cell_type": "code",
   "execution_count": 41,
   "metadata": {},
   "outputs": [],
   "source": [
    "input = {\"question\": \"Thời tiết Hà nội\"}"
   ]
  },
  {
   "cell_type": "code",
   "execution_count": 42,
   "metadata": {},
   "outputs": [
    {
     "data": {
      "text/plain": [
       "{'question': 'Thời tiết Hà nội',\n",
       " 'context': 'Dự báo thời tiết khu vực từng giờ, điều kiện thời tiết, ... Thời tiết hàng giờ-Hà Nội. Kể từ 5:02 GMT+07:00. Mưa. Bão kết thúc vào 05:30. Có thể ...\\nWeb site nchmf.gov.vn - website thông tin dự báo thời tiết, thiên tai khí tượng thủy văn. Giới thiệu. Chức năng nhiệm vụ ... Thời tiết 10 ngày tới; Thời tiết Hà Nội. Thời tiết hiện tại. Cập nhật: 1h 28/07/2024.\\nXem thời tiết Hà Nội trong 10 ngày tới với nhiệt độ, độ ẩm, lượng mưa và gió. Hà Nội có mưa vừa và mưa nhẹ trong thời gian này, nhiệt độ từ 25.2 đến 36.9 độ C.\\nWeb site nchmf.gov.vn - web site thông tin dự báo thời tiết biển, đất liền 24h,48h,72h, sản phẩm mô hình, ảnh Radar, ảnh vệ tinh. ... Hà Nội. Điện thoại: 84-24-38244916; 84-24-32673199 - số máy lẻ 701 E-mail: vtttkttv@monre.gov.vn Góp ý . Gửi góp ý Thư viện ảnh ...\\nDự báo thời tiết Hà Nội 7 ngày tới. Cập nhật nhiệt độ, đổ ẩm, lượng mưa và chất lượng không khí Hà Nội hôm nay. Dự báo thời tiết Hà Nội 7 ngày tới. Thứ sáu, 26/7/2024. Mới nhất Tin theo khu vực Hà Nội; TP Hồ Chí Minh; International. Mới nhất; Thời sự ;',\n",
       " 'answer': 'Thời tiết Hà Nội hiện tại là mưa. Bão kết thúc vào 05:30. \\n\\nDự báo thời tiết Hà Nội trong 10 ngày tới có mưa vừa và mưa nhẹ, nhiệt độ từ 25.2 đến 36.9 độ C. \\n\\nĐể xem dự báo chi tiết hơn, bạn có thể truy cập website nchmf.gov.vn. \\n'}"
      ]
     },
     "execution_count": 42,
     "metadata": {},
     "output_type": "execute_result"
    }
   ],
   "source": [
    "app.invoke(input)"
   ]
  },
  {
   "cell_type": "code",
   "execution_count": null,
   "metadata": {},
   "outputs": [],
   "source": []
  }
 ],
 "metadata": {
  "kernelspec": {
   "display_name": "Python 3",
   "language": "python",
   "name": "python3"
  },
  "language_info": {
   "codemirror_mode": {
    "name": "ipython",
    "version": 3
   },
   "file_extension": ".py",
   "mimetype": "text/x-python",
   "name": "python",
   "nbconvert_exporter": "python",
   "pygments_lexer": "ipython3",
   "version": "3.11.9"
  }
 },
 "nbformat": 4,
 "nbformat_minor": 2
}
